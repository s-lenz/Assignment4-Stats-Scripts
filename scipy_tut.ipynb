{
 "cells": [
  {
   "cell_type": "markdown",
   "id": "612cc679-2c7f-40f2-96ab-cc2f20f8663b",
   "metadata": {},
   "source": [
    "# 3.1 Statistics in Python"
   ]
  },
  {
   "cell_type": "markdown",
   "id": "aa0eae90-db13-467c-bf4f-872fa1c0a5b9",
   "metadata": {},
   "source": [
    "# 3.1.1 Data representation and interaction"
   ]
  },
  {
   "cell_type": "markdown",
   "id": "29d04465-50f1-462c-8755-a418e2187085",
   "metadata": {},
   "source": [
    "## libraries and setup"
   ]
  },
  {
   "cell_type": "code",
   "execution_count": 1,
   "id": "9f16f223-0000-41bb-8509-a9b6fbb8bd1c",
   "metadata": {},
   "outputs": [],
   "source": [
    "from scipy.stats import linregress\n",
    "import numpy as np\n",
    "import matplotlib.pyplot as plt\n",
    "import pandas\n",
    "import os"
   ]
  },
  {
   "cell_type": "code",
   "execution_count": 2,
   "id": "514c6f4e-2be8-4696-bac8-e3a47f042d88",
   "metadata": {},
   "outputs": [
    {
     "data": {
      "text/plain": [
       "'/users/PAS2797/slenz/Assignment4-Stats-Scripts/Assignment4-Stats-Scripts'"
      ]
     },
     "execution_count": 2,
     "metadata": {},
     "output_type": "execute_result"
    }
   ],
   "source": [
    "os.getcwd()"
   ]
  },
  {
   "cell_type": "markdown",
   "id": "b71b59f4-69ab-47ff-a85b-1d127ad01b9a",
   "metadata": {},
   "source": [
    "# 3.1.1.2 Pandas df"
   ]
  },
  {
   "cell_type": "code",
   "execution_count": 3,
   "id": "49c589f9-c760-48e3-a487-655d814214e0",
   "metadata": {},
   "outputs": [],
   "source": [
    "data = pandas.read_csv('examples/brain_size.csv', sep=';', na_values=\".\")"
   ]
  },
  {
   "cell_type": "code",
   "execution_count": 4,
   "id": "fe465439-0897-42fa-a9d0-f387e922d1a6",
   "metadata": {},
   "outputs": [
    {
     "data": {
      "text/html": [
       "<div>\n",
       "<style scoped>\n",
       "    .dataframe tbody tr th:only-of-type {\n",
       "        vertical-align: middle;\n",
       "    }\n",
       "\n",
       "    .dataframe tbody tr th {\n",
       "        vertical-align: top;\n",
       "    }\n",
       "\n",
       "    .dataframe thead th {\n",
       "        text-align: right;\n",
       "    }\n",
       "</style>\n",
       "<table border=\"1\" class=\"dataframe\">\n",
       "  <thead>\n",
       "    <tr style=\"text-align: right;\">\n",
       "      <th></th>\n",
       "      <th>Unnamed: 0</th>\n",
       "      <th>Gender</th>\n",
       "      <th>FSIQ</th>\n",
       "      <th>VIQ</th>\n",
       "      <th>PIQ</th>\n",
       "      <th>Weight</th>\n",
       "      <th>Height</th>\n",
       "      <th>MRI_Count</th>\n",
       "    </tr>\n",
       "  </thead>\n",
       "  <tbody>\n",
       "    <tr>\n",
       "      <th>0</th>\n",
       "      <td>1</td>\n",
       "      <td>Female</td>\n",
       "      <td>133</td>\n",
       "      <td>132</td>\n",
       "      <td>124</td>\n",
       "      <td>118.0</td>\n",
       "      <td>64.5</td>\n",
       "      <td>816932</td>\n",
       "    </tr>\n",
       "    <tr>\n",
       "      <th>1</th>\n",
       "      <td>2</td>\n",
       "      <td>Male</td>\n",
       "      <td>140</td>\n",
       "      <td>150</td>\n",
       "      <td>124</td>\n",
       "      <td>NaN</td>\n",
       "      <td>72.5</td>\n",
       "      <td>1001121</td>\n",
       "    </tr>\n",
       "    <tr>\n",
       "      <th>2</th>\n",
       "      <td>3</td>\n",
       "      <td>Male</td>\n",
       "      <td>139</td>\n",
       "      <td>123</td>\n",
       "      <td>150</td>\n",
       "      <td>143.0</td>\n",
       "      <td>73.3</td>\n",
       "      <td>1038437</td>\n",
       "    </tr>\n",
       "    <tr>\n",
       "      <th>3</th>\n",
       "      <td>4</td>\n",
       "      <td>Male</td>\n",
       "      <td>133</td>\n",
       "      <td>129</td>\n",
       "      <td>128</td>\n",
       "      <td>172.0</td>\n",
       "      <td>68.8</td>\n",
       "      <td>965353</td>\n",
       "    </tr>\n",
       "    <tr>\n",
       "      <th>4</th>\n",
       "      <td>5</td>\n",
       "      <td>Female</td>\n",
       "      <td>137</td>\n",
       "      <td>132</td>\n",
       "      <td>134</td>\n",
       "      <td>147.0</td>\n",
       "      <td>65.0</td>\n",
       "      <td>951545</td>\n",
       "    </tr>\n",
       "    <tr>\n",
       "      <th>5</th>\n",
       "      <td>6</td>\n",
       "      <td>Female</td>\n",
       "      <td>99</td>\n",
       "      <td>90</td>\n",
       "      <td>110</td>\n",
       "      <td>146.0</td>\n",
       "      <td>69.0</td>\n",
       "      <td>928799</td>\n",
       "    </tr>\n",
       "    <tr>\n",
       "      <th>6</th>\n",
       "      <td>7</td>\n",
       "      <td>Female</td>\n",
       "      <td>138</td>\n",
       "      <td>136</td>\n",
       "      <td>131</td>\n",
       "      <td>138.0</td>\n",
       "      <td>64.5</td>\n",
       "      <td>991305</td>\n",
       "    </tr>\n",
       "    <tr>\n",
       "      <th>7</th>\n",
       "      <td>8</td>\n",
       "      <td>Female</td>\n",
       "      <td>92</td>\n",
       "      <td>90</td>\n",
       "      <td>98</td>\n",
       "      <td>175.0</td>\n",
       "      <td>66.0</td>\n",
       "      <td>854258</td>\n",
       "    </tr>\n",
       "    <tr>\n",
       "      <th>8</th>\n",
       "      <td>9</td>\n",
       "      <td>Male</td>\n",
       "      <td>89</td>\n",
       "      <td>93</td>\n",
       "      <td>84</td>\n",
       "      <td>134.0</td>\n",
       "      <td>66.3</td>\n",
       "      <td>904858</td>\n",
       "    </tr>\n",
       "    <tr>\n",
       "      <th>9</th>\n",
       "      <td>10</td>\n",
       "      <td>Male</td>\n",
       "      <td>133</td>\n",
       "      <td>114</td>\n",
       "      <td>147</td>\n",
       "      <td>172.0</td>\n",
       "      <td>68.8</td>\n",
       "      <td>955466</td>\n",
       "    </tr>\n",
       "    <tr>\n",
       "      <th>10</th>\n",
       "      <td>11</td>\n",
       "      <td>Female</td>\n",
       "      <td>132</td>\n",
       "      <td>129</td>\n",
       "      <td>124</td>\n",
       "      <td>118.0</td>\n",
       "      <td>64.5</td>\n",
       "      <td>833868</td>\n",
       "    </tr>\n",
       "    <tr>\n",
       "      <th>11</th>\n",
       "      <td>12</td>\n",
       "      <td>Male</td>\n",
       "      <td>141</td>\n",
       "      <td>150</td>\n",
       "      <td>128</td>\n",
       "      <td>151.0</td>\n",
       "      <td>70.0</td>\n",
       "      <td>1079549</td>\n",
       "    </tr>\n",
       "    <tr>\n",
       "      <th>12</th>\n",
       "      <td>13</td>\n",
       "      <td>Male</td>\n",
       "      <td>135</td>\n",
       "      <td>129</td>\n",
       "      <td>124</td>\n",
       "      <td>155.0</td>\n",
       "      <td>69.0</td>\n",
       "      <td>924059</td>\n",
       "    </tr>\n",
       "    <tr>\n",
       "      <th>13</th>\n",
       "      <td>14</td>\n",
       "      <td>Female</td>\n",
       "      <td>140</td>\n",
       "      <td>120</td>\n",
       "      <td>147</td>\n",
       "      <td>155.0</td>\n",
       "      <td>70.5</td>\n",
       "      <td>856472</td>\n",
       "    </tr>\n",
       "    <tr>\n",
       "      <th>14</th>\n",
       "      <td>15</td>\n",
       "      <td>Female</td>\n",
       "      <td>96</td>\n",
       "      <td>100</td>\n",
       "      <td>90</td>\n",
       "      <td>146.0</td>\n",
       "      <td>66.0</td>\n",
       "      <td>878897</td>\n",
       "    </tr>\n",
       "    <tr>\n",
       "      <th>15</th>\n",
       "      <td>16</td>\n",
       "      <td>Female</td>\n",
       "      <td>83</td>\n",
       "      <td>71</td>\n",
       "      <td>96</td>\n",
       "      <td>135.0</td>\n",
       "      <td>68.0</td>\n",
       "      <td>865363</td>\n",
       "    </tr>\n",
       "    <tr>\n",
       "      <th>16</th>\n",
       "      <td>17</td>\n",
       "      <td>Female</td>\n",
       "      <td>132</td>\n",
       "      <td>132</td>\n",
       "      <td>120</td>\n",
       "      <td>127.0</td>\n",
       "      <td>68.5</td>\n",
       "      <td>852244</td>\n",
       "    </tr>\n",
       "    <tr>\n",
       "      <th>17</th>\n",
       "      <td>18</td>\n",
       "      <td>Male</td>\n",
       "      <td>100</td>\n",
       "      <td>96</td>\n",
       "      <td>102</td>\n",
       "      <td>178.0</td>\n",
       "      <td>73.5</td>\n",
       "      <td>945088</td>\n",
       "    </tr>\n",
       "    <tr>\n",
       "      <th>18</th>\n",
       "      <td>19</td>\n",
       "      <td>Female</td>\n",
       "      <td>101</td>\n",
       "      <td>112</td>\n",
       "      <td>84</td>\n",
       "      <td>136.0</td>\n",
       "      <td>66.3</td>\n",
       "      <td>808020</td>\n",
       "    </tr>\n",
       "    <tr>\n",
       "      <th>19</th>\n",
       "      <td>20</td>\n",
       "      <td>Male</td>\n",
       "      <td>80</td>\n",
       "      <td>77</td>\n",
       "      <td>86</td>\n",
       "      <td>180.0</td>\n",
       "      <td>70.0</td>\n",
       "      <td>889083</td>\n",
       "    </tr>\n",
       "    <tr>\n",
       "      <th>20</th>\n",
       "      <td>21</td>\n",
       "      <td>Male</td>\n",
       "      <td>83</td>\n",
       "      <td>83</td>\n",
       "      <td>86</td>\n",
       "      <td>NaN</td>\n",
       "      <td>NaN</td>\n",
       "      <td>892420</td>\n",
       "    </tr>\n",
       "    <tr>\n",
       "      <th>21</th>\n",
       "      <td>22</td>\n",
       "      <td>Male</td>\n",
       "      <td>97</td>\n",
       "      <td>107</td>\n",
       "      <td>84</td>\n",
       "      <td>186.0</td>\n",
       "      <td>76.5</td>\n",
       "      <td>905940</td>\n",
       "    </tr>\n",
       "    <tr>\n",
       "      <th>22</th>\n",
       "      <td>23</td>\n",
       "      <td>Female</td>\n",
       "      <td>135</td>\n",
       "      <td>129</td>\n",
       "      <td>134</td>\n",
       "      <td>122.0</td>\n",
       "      <td>62.0</td>\n",
       "      <td>790619</td>\n",
       "    </tr>\n",
       "    <tr>\n",
       "      <th>23</th>\n",
       "      <td>24</td>\n",
       "      <td>Male</td>\n",
       "      <td>139</td>\n",
       "      <td>145</td>\n",
       "      <td>128</td>\n",
       "      <td>132.0</td>\n",
       "      <td>68.0</td>\n",
       "      <td>955003</td>\n",
       "    </tr>\n",
       "    <tr>\n",
       "      <th>24</th>\n",
       "      <td>25</td>\n",
       "      <td>Female</td>\n",
       "      <td>91</td>\n",
       "      <td>86</td>\n",
       "      <td>102</td>\n",
       "      <td>114.0</td>\n",
       "      <td>63.0</td>\n",
       "      <td>831772</td>\n",
       "    </tr>\n",
       "    <tr>\n",
       "      <th>25</th>\n",
       "      <td>26</td>\n",
       "      <td>Male</td>\n",
       "      <td>141</td>\n",
       "      <td>145</td>\n",
       "      <td>131</td>\n",
       "      <td>171.0</td>\n",
       "      <td>72.0</td>\n",
       "      <td>935494</td>\n",
       "    </tr>\n",
       "    <tr>\n",
       "      <th>26</th>\n",
       "      <td>27</td>\n",
       "      <td>Female</td>\n",
       "      <td>85</td>\n",
       "      <td>90</td>\n",
       "      <td>84</td>\n",
       "      <td>140.0</td>\n",
       "      <td>68.0</td>\n",
       "      <td>798612</td>\n",
       "    </tr>\n",
       "    <tr>\n",
       "      <th>27</th>\n",
       "      <td>28</td>\n",
       "      <td>Male</td>\n",
       "      <td>103</td>\n",
       "      <td>96</td>\n",
       "      <td>110</td>\n",
       "      <td>187.0</td>\n",
       "      <td>77.0</td>\n",
       "      <td>1062462</td>\n",
       "    </tr>\n",
       "    <tr>\n",
       "      <th>28</th>\n",
       "      <td>29</td>\n",
       "      <td>Female</td>\n",
       "      <td>77</td>\n",
       "      <td>83</td>\n",
       "      <td>72</td>\n",
       "      <td>106.0</td>\n",
       "      <td>63.0</td>\n",
       "      <td>793549</td>\n",
       "    </tr>\n",
       "    <tr>\n",
       "      <th>29</th>\n",
       "      <td>30</td>\n",
       "      <td>Female</td>\n",
       "      <td>130</td>\n",
       "      <td>126</td>\n",
       "      <td>124</td>\n",
       "      <td>159.0</td>\n",
       "      <td>66.5</td>\n",
       "      <td>866662</td>\n",
       "    </tr>\n",
       "    <tr>\n",
       "      <th>30</th>\n",
       "      <td>31</td>\n",
       "      <td>Female</td>\n",
       "      <td>133</td>\n",
       "      <td>126</td>\n",
       "      <td>132</td>\n",
       "      <td>127.0</td>\n",
       "      <td>62.5</td>\n",
       "      <td>857782</td>\n",
       "    </tr>\n",
       "    <tr>\n",
       "      <th>31</th>\n",
       "      <td>32</td>\n",
       "      <td>Male</td>\n",
       "      <td>144</td>\n",
       "      <td>145</td>\n",
       "      <td>137</td>\n",
       "      <td>191.0</td>\n",
       "      <td>67.0</td>\n",
       "      <td>949589</td>\n",
       "    </tr>\n",
       "    <tr>\n",
       "      <th>32</th>\n",
       "      <td>33</td>\n",
       "      <td>Male</td>\n",
       "      <td>103</td>\n",
       "      <td>96</td>\n",
       "      <td>110</td>\n",
       "      <td>192.0</td>\n",
       "      <td>75.5</td>\n",
       "      <td>997925</td>\n",
       "    </tr>\n",
       "    <tr>\n",
       "      <th>33</th>\n",
       "      <td>34</td>\n",
       "      <td>Male</td>\n",
       "      <td>90</td>\n",
       "      <td>96</td>\n",
       "      <td>86</td>\n",
       "      <td>181.0</td>\n",
       "      <td>69.0</td>\n",
       "      <td>879987</td>\n",
       "    </tr>\n",
       "    <tr>\n",
       "      <th>34</th>\n",
       "      <td>35</td>\n",
       "      <td>Female</td>\n",
       "      <td>83</td>\n",
       "      <td>90</td>\n",
       "      <td>81</td>\n",
       "      <td>143.0</td>\n",
       "      <td>66.5</td>\n",
       "      <td>834344</td>\n",
       "    </tr>\n",
       "    <tr>\n",
       "      <th>35</th>\n",
       "      <td>36</td>\n",
       "      <td>Female</td>\n",
       "      <td>133</td>\n",
       "      <td>129</td>\n",
       "      <td>128</td>\n",
       "      <td>153.0</td>\n",
       "      <td>66.5</td>\n",
       "      <td>948066</td>\n",
       "    </tr>\n",
       "    <tr>\n",
       "      <th>36</th>\n",
       "      <td>37</td>\n",
       "      <td>Male</td>\n",
       "      <td>140</td>\n",
       "      <td>150</td>\n",
       "      <td>124</td>\n",
       "      <td>144.0</td>\n",
       "      <td>70.5</td>\n",
       "      <td>949395</td>\n",
       "    </tr>\n",
       "    <tr>\n",
       "      <th>37</th>\n",
       "      <td>38</td>\n",
       "      <td>Female</td>\n",
       "      <td>88</td>\n",
       "      <td>86</td>\n",
       "      <td>94</td>\n",
       "      <td>139.0</td>\n",
       "      <td>64.5</td>\n",
       "      <td>893983</td>\n",
       "    </tr>\n",
       "    <tr>\n",
       "      <th>38</th>\n",
       "      <td>39</td>\n",
       "      <td>Male</td>\n",
       "      <td>81</td>\n",
       "      <td>90</td>\n",
       "      <td>74</td>\n",
       "      <td>148.0</td>\n",
       "      <td>74.0</td>\n",
       "      <td>930016</td>\n",
       "    </tr>\n",
       "    <tr>\n",
       "      <th>39</th>\n",
       "      <td>40</td>\n",
       "      <td>Male</td>\n",
       "      <td>89</td>\n",
       "      <td>91</td>\n",
       "      <td>89</td>\n",
       "      <td>179.0</td>\n",
       "      <td>75.5</td>\n",
       "      <td>935863</td>\n",
       "    </tr>\n",
       "  </tbody>\n",
       "</table>\n",
       "</div>"
      ],
      "text/plain": [
       "    Unnamed: 0  Gender  FSIQ  VIQ  PIQ  Weight  Height  MRI_Count\n",
       "0            1  Female   133  132  124   118.0    64.5     816932\n",
       "1            2    Male   140  150  124     NaN    72.5    1001121\n",
       "2            3    Male   139  123  150   143.0    73.3    1038437\n",
       "3            4    Male   133  129  128   172.0    68.8     965353\n",
       "4            5  Female   137  132  134   147.0    65.0     951545\n",
       "5            6  Female    99   90  110   146.0    69.0     928799\n",
       "6            7  Female   138  136  131   138.0    64.5     991305\n",
       "7            8  Female    92   90   98   175.0    66.0     854258\n",
       "8            9    Male    89   93   84   134.0    66.3     904858\n",
       "9           10    Male   133  114  147   172.0    68.8     955466\n",
       "10          11  Female   132  129  124   118.0    64.5     833868\n",
       "11          12    Male   141  150  128   151.0    70.0    1079549\n",
       "12          13    Male   135  129  124   155.0    69.0     924059\n",
       "13          14  Female   140  120  147   155.0    70.5     856472\n",
       "14          15  Female    96  100   90   146.0    66.0     878897\n",
       "15          16  Female    83   71   96   135.0    68.0     865363\n",
       "16          17  Female   132  132  120   127.0    68.5     852244\n",
       "17          18    Male   100   96  102   178.0    73.5     945088\n",
       "18          19  Female   101  112   84   136.0    66.3     808020\n",
       "19          20    Male    80   77   86   180.0    70.0     889083\n",
       "20          21    Male    83   83   86     NaN     NaN     892420\n",
       "21          22    Male    97  107   84   186.0    76.5     905940\n",
       "22          23  Female   135  129  134   122.0    62.0     790619\n",
       "23          24    Male   139  145  128   132.0    68.0     955003\n",
       "24          25  Female    91   86  102   114.0    63.0     831772\n",
       "25          26    Male   141  145  131   171.0    72.0     935494\n",
       "26          27  Female    85   90   84   140.0    68.0     798612\n",
       "27          28    Male   103   96  110   187.0    77.0    1062462\n",
       "28          29  Female    77   83   72   106.0    63.0     793549\n",
       "29          30  Female   130  126  124   159.0    66.5     866662\n",
       "30          31  Female   133  126  132   127.0    62.5     857782\n",
       "31          32    Male   144  145  137   191.0    67.0     949589\n",
       "32          33    Male   103   96  110   192.0    75.5     997925\n",
       "33          34    Male    90   96   86   181.0    69.0     879987\n",
       "34          35  Female    83   90   81   143.0    66.5     834344\n",
       "35          36  Female   133  129  128   153.0    66.5     948066\n",
       "36          37    Male   140  150  124   144.0    70.5     949395\n",
       "37          38  Female    88   86   94   139.0    64.5     893983\n",
       "38          39    Male    81   90   74   148.0    74.0     930016\n",
       "39          40    Male    89   91   89   179.0    75.5     935863"
      ]
     },
     "execution_count": 4,
     "metadata": {},
     "output_type": "execute_result"
    }
   ],
   "source": [
    "data"
   ]
  },
  {
   "cell_type": "code",
   "execution_count": 5,
   "id": "57a51c22-9bc9-454a-beb7-52c033164e1c",
   "metadata": {},
   "outputs": [],
   "source": [
    "t = np.linspace(-6, 6, 20)\n",
    "sin_t = np.sin(t)\n",
    "cos_t = np.cos(t)"
   ]
  },
  {
   "cell_type": "code",
   "execution_count": 6,
   "id": "676a09cc-d10f-4ea9-97a8-2e93c02542f1",
   "metadata": {},
   "outputs": [
    {
     "data": {
      "text/html": [
       "<div>\n",
       "<style scoped>\n",
       "    .dataframe tbody tr th:only-of-type {\n",
       "        vertical-align: middle;\n",
       "    }\n",
       "\n",
       "    .dataframe tbody tr th {\n",
       "        vertical-align: top;\n",
       "    }\n",
       "\n",
       "    .dataframe thead th {\n",
       "        text-align: right;\n",
       "    }\n",
       "</style>\n",
       "<table border=\"1\" class=\"dataframe\">\n",
       "  <thead>\n",
       "    <tr style=\"text-align: right;\">\n",
       "      <th></th>\n",
       "      <th>t</th>\n",
       "      <th>sin</th>\n",
       "      <th>cos</th>\n",
       "    </tr>\n",
       "  </thead>\n",
       "  <tbody>\n",
       "    <tr>\n",
       "      <th>0</th>\n",
       "      <td>-6.000000</td>\n",
       "      <td>0.279415</td>\n",
       "      <td>0.960170</td>\n",
       "    </tr>\n",
       "    <tr>\n",
       "      <th>1</th>\n",
       "      <td>-5.368421</td>\n",
       "      <td>0.792419</td>\n",
       "      <td>0.609977</td>\n",
       "    </tr>\n",
       "    <tr>\n",
       "      <th>2</th>\n",
       "      <td>-4.736842</td>\n",
       "      <td>0.999701</td>\n",
       "      <td>0.024451</td>\n",
       "    </tr>\n",
       "    <tr>\n",
       "      <th>3</th>\n",
       "      <td>-4.105263</td>\n",
       "      <td>0.821291</td>\n",
       "      <td>-0.570509</td>\n",
       "    </tr>\n",
       "    <tr>\n",
       "      <th>4</th>\n",
       "      <td>-3.473684</td>\n",
       "      <td>0.326021</td>\n",
       "      <td>-0.945363</td>\n",
       "    </tr>\n",
       "    <tr>\n",
       "      <th>5</th>\n",
       "      <td>-2.842105</td>\n",
       "      <td>-0.295030</td>\n",
       "      <td>-0.955488</td>\n",
       "    </tr>\n",
       "    <tr>\n",
       "      <th>6</th>\n",
       "      <td>-2.210526</td>\n",
       "      <td>-0.802257</td>\n",
       "      <td>-0.596979</td>\n",
       "    </tr>\n",
       "    <tr>\n",
       "      <th>7</th>\n",
       "      <td>-1.578947</td>\n",
       "      <td>-0.999967</td>\n",
       "      <td>-0.008151</td>\n",
       "    </tr>\n",
       "    <tr>\n",
       "      <th>8</th>\n",
       "      <td>-0.947368</td>\n",
       "      <td>-0.811882</td>\n",
       "      <td>0.583822</td>\n",
       "    </tr>\n",
       "    <tr>\n",
       "      <th>9</th>\n",
       "      <td>-0.315789</td>\n",
       "      <td>-0.310567</td>\n",
       "      <td>0.950551</td>\n",
       "    </tr>\n",
       "    <tr>\n",
       "      <th>10</th>\n",
       "      <td>0.315789</td>\n",
       "      <td>0.310567</td>\n",
       "      <td>0.950551</td>\n",
       "    </tr>\n",
       "    <tr>\n",
       "      <th>11</th>\n",
       "      <td>0.947368</td>\n",
       "      <td>0.811882</td>\n",
       "      <td>0.583822</td>\n",
       "    </tr>\n",
       "    <tr>\n",
       "      <th>12</th>\n",
       "      <td>1.578947</td>\n",
       "      <td>0.999967</td>\n",
       "      <td>-0.008151</td>\n",
       "    </tr>\n",
       "    <tr>\n",
       "      <th>13</th>\n",
       "      <td>2.210526</td>\n",
       "      <td>0.802257</td>\n",
       "      <td>-0.596979</td>\n",
       "    </tr>\n",
       "    <tr>\n",
       "      <th>14</th>\n",
       "      <td>2.842105</td>\n",
       "      <td>0.295030</td>\n",
       "      <td>-0.955488</td>\n",
       "    </tr>\n",
       "    <tr>\n",
       "      <th>15</th>\n",
       "      <td>3.473684</td>\n",
       "      <td>-0.326021</td>\n",
       "      <td>-0.945363</td>\n",
       "    </tr>\n",
       "    <tr>\n",
       "      <th>16</th>\n",
       "      <td>4.105263</td>\n",
       "      <td>-0.821291</td>\n",
       "      <td>-0.570509</td>\n",
       "    </tr>\n",
       "    <tr>\n",
       "      <th>17</th>\n",
       "      <td>4.736842</td>\n",
       "      <td>-0.999701</td>\n",
       "      <td>0.024451</td>\n",
       "    </tr>\n",
       "    <tr>\n",
       "      <th>18</th>\n",
       "      <td>5.368421</td>\n",
       "      <td>-0.792419</td>\n",
       "      <td>0.609977</td>\n",
       "    </tr>\n",
       "    <tr>\n",
       "      <th>19</th>\n",
       "      <td>6.000000</td>\n",
       "      <td>-0.279415</td>\n",
       "      <td>0.960170</td>\n",
       "    </tr>\n",
       "  </tbody>\n",
       "</table>\n",
       "</div>"
      ],
      "text/plain": [
       "           t       sin       cos\n",
       "0  -6.000000  0.279415  0.960170\n",
       "1  -5.368421  0.792419  0.609977\n",
       "2  -4.736842  0.999701  0.024451\n",
       "3  -4.105263  0.821291 -0.570509\n",
       "4  -3.473684  0.326021 -0.945363\n",
       "5  -2.842105 -0.295030 -0.955488\n",
       "6  -2.210526 -0.802257 -0.596979\n",
       "7  -1.578947 -0.999967 -0.008151\n",
       "8  -0.947368 -0.811882  0.583822\n",
       "9  -0.315789 -0.310567  0.950551\n",
       "10  0.315789  0.310567  0.950551\n",
       "11  0.947368  0.811882  0.583822\n",
       "12  1.578947  0.999967 -0.008151\n",
       "13  2.210526  0.802257 -0.596979\n",
       "14  2.842105  0.295030 -0.955488\n",
       "15  3.473684 -0.326021 -0.945363\n",
       "16  4.105263 -0.821291 -0.570509\n",
       "17  4.736842 -0.999701  0.024451\n",
       "18  5.368421 -0.792419  0.609977\n",
       "19  6.000000 -0.279415  0.960170"
      ]
     },
     "execution_count": 6,
     "metadata": {},
     "output_type": "execute_result"
    }
   ],
   "source": [
    "pandas.DataFrame({'t': t, 'sin': sin_t, 'cos': cos_t})  "
   ]
  },
  {
   "cell_type": "code",
   "execution_count": 7,
   "id": "1cb25970-86d7-4d65-9355-73e789ccceb6",
   "metadata": {},
   "outputs": [
    {
     "data": {
      "text/plain": [
       "(40, 8)"
      ]
     },
     "execution_count": 7,
     "metadata": {},
     "output_type": "execute_result"
    }
   ],
   "source": [
    "data.shape"
   ]
  },
  {
   "cell_type": "code",
   "execution_count": 8,
   "id": "95ac3234-34cb-4401-a009-5aab0474aabe",
   "metadata": {},
   "outputs": [
    {
     "data": {
      "text/plain": [
       "Index(['Unnamed: 0', 'Gender', 'FSIQ', 'VIQ', 'PIQ', 'Weight', 'Height',\n",
       "       'MRI_Count'],\n",
       "      dtype='object')"
      ]
     },
     "execution_count": 8,
     "metadata": {},
     "output_type": "execute_result"
    }
   ],
   "source": [
    "data.columns "
   ]
  },
  {
   "cell_type": "code",
   "execution_count": 9,
   "id": "53fcf9f4-72c1-4bda-a47d-e7f3fffc02d6",
   "metadata": {},
   "outputs": [
    {
     "data": {
      "text/plain": [
       "np.float64(109.45)"
      ]
     },
     "execution_count": 9,
     "metadata": {},
     "output_type": "execute_result"
    }
   ],
   "source": [
    "# Simpler selector\n",
    "data[data['Gender'] == 'Female']['VIQ'].mean()"
   ]
  },
  {
   "cell_type": "code",
   "execution_count": 10,
   "id": "c98c05d5-d66e-45f3-879e-70a5be2f044b",
   "metadata": {},
   "outputs": [
    {
     "data": {
      "text/plain": [
       "np.float64(109.45)"
      ]
     },
     "execution_count": 10,
     "metadata": {},
     "output_type": "execute_result"
    }
   ],
   "source": [
    "data[data['Gender'] == 'Female']['VIQ'].mean()"
   ]
  },
  {
   "cell_type": "code",
   "execution_count": 11,
   "id": "64fe21c0-e535-49b2-b733-cbb709675801",
   "metadata": {},
   "outputs": [
    {
     "data": {
      "text/html": [
       "<div>\n",
       "<style scoped>\n",
       "    .dataframe tbody tr th:only-of-type {\n",
       "        vertical-align: middle;\n",
       "    }\n",
       "\n",
       "    .dataframe tbody tr th {\n",
       "        vertical-align: top;\n",
       "    }\n",
       "\n",
       "    .dataframe thead th {\n",
       "        text-align: right;\n",
       "    }\n",
       "</style>\n",
       "<table border=\"1\" class=\"dataframe\">\n",
       "  <thead>\n",
       "    <tr style=\"text-align: right;\">\n",
       "      <th></th>\n",
       "      <th>Unnamed: 0</th>\n",
       "      <th>FSIQ</th>\n",
       "      <th>VIQ</th>\n",
       "      <th>PIQ</th>\n",
       "      <th>Weight</th>\n",
       "      <th>Height</th>\n",
       "      <th>MRI_Count</th>\n",
       "    </tr>\n",
       "  </thead>\n",
       "  <tbody>\n",
       "    <tr>\n",
       "      <th>count</th>\n",
       "      <td>40.000000</td>\n",
       "      <td>40.000000</td>\n",
       "      <td>40.000000</td>\n",
       "      <td>40.00000</td>\n",
       "      <td>38.000000</td>\n",
       "      <td>39.000000</td>\n",
       "      <td>4.000000e+01</td>\n",
       "    </tr>\n",
       "    <tr>\n",
       "      <th>mean</th>\n",
       "      <td>20.500000</td>\n",
       "      <td>113.450000</td>\n",
       "      <td>112.350000</td>\n",
       "      <td>111.02500</td>\n",
       "      <td>151.052632</td>\n",
       "      <td>68.525641</td>\n",
       "      <td>9.087550e+05</td>\n",
       "    </tr>\n",
       "    <tr>\n",
       "      <th>std</th>\n",
       "      <td>11.690452</td>\n",
       "      <td>24.082071</td>\n",
       "      <td>23.616107</td>\n",
       "      <td>22.47105</td>\n",
       "      <td>23.478509</td>\n",
       "      <td>3.994649</td>\n",
       "      <td>7.228205e+04</td>\n",
       "    </tr>\n",
       "    <tr>\n",
       "      <th>min</th>\n",
       "      <td>1.000000</td>\n",
       "      <td>77.000000</td>\n",
       "      <td>71.000000</td>\n",
       "      <td>72.00000</td>\n",
       "      <td>106.000000</td>\n",
       "      <td>62.000000</td>\n",
       "      <td>7.906190e+05</td>\n",
       "    </tr>\n",
       "    <tr>\n",
       "      <th>25%</th>\n",
       "      <td>10.750000</td>\n",
       "      <td>89.750000</td>\n",
       "      <td>90.000000</td>\n",
       "      <td>88.25000</td>\n",
       "      <td>135.250000</td>\n",
       "      <td>66.000000</td>\n",
       "      <td>8.559185e+05</td>\n",
       "    </tr>\n",
       "    <tr>\n",
       "      <th>50%</th>\n",
       "      <td>20.500000</td>\n",
       "      <td>116.500000</td>\n",
       "      <td>113.000000</td>\n",
       "      <td>115.00000</td>\n",
       "      <td>146.500000</td>\n",
       "      <td>68.000000</td>\n",
       "      <td>9.053990e+05</td>\n",
       "    </tr>\n",
       "    <tr>\n",
       "      <th>75%</th>\n",
       "      <td>30.250000</td>\n",
       "      <td>135.500000</td>\n",
       "      <td>129.750000</td>\n",
       "      <td>128.00000</td>\n",
       "      <td>172.000000</td>\n",
       "      <td>70.500000</td>\n",
       "      <td>9.500780e+05</td>\n",
       "    </tr>\n",
       "    <tr>\n",
       "      <th>max</th>\n",
       "      <td>40.000000</td>\n",
       "      <td>144.000000</td>\n",
       "      <td>150.000000</td>\n",
       "      <td>150.00000</td>\n",
       "      <td>192.000000</td>\n",
       "      <td>77.000000</td>\n",
       "      <td>1.079549e+06</td>\n",
       "    </tr>\n",
       "  </tbody>\n",
       "</table>\n",
       "</div>"
      ],
      "text/plain": [
       "       Unnamed: 0        FSIQ         VIQ        PIQ      Weight     Height  \\\n",
       "count   40.000000   40.000000   40.000000   40.00000   38.000000  39.000000   \n",
       "mean    20.500000  113.450000  112.350000  111.02500  151.052632  68.525641   \n",
       "std     11.690452   24.082071   23.616107   22.47105   23.478509   3.994649   \n",
       "min      1.000000   77.000000   71.000000   72.00000  106.000000  62.000000   \n",
       "25%     10.750000   89.750000   90.000000   88.25000  135.250000  66.000000   \n",
       "50%     20.500000  116.500000  113.000000  115.00000  146.500000  68.000000   \n",
       "75%     30.250000  135.500000  129.750000  128.00000  172.000000  70.500000   \n",
       "max     40.000000  144.000000  150.000000  150.00000  192.000000  77.000000   \n",
       "\n",
       "          MRI_Count  \n",
       "count  4.000000e+01  \n",
       "mean   9.087550e+05  \n",
       "std    7.228205e+04  \n",
       "min    7.906190e+05  \n",
       "25%    8.559185e+05  \n",
       "50%    9.053990e+05  \n",
       "75%    9.500780e+05  \n",
       "max    1.079549e+06  "
      ]
     },
     "execution_count": 11,
     "metadata": {},
     "output_type": "execute_result"
    }
   ],
   "source": [
    "data.describe()"
   ]
  },
  {
   "cell_type": "code",
   "execution_count": 12,
   "id": "e0465bad-7c4b-4954-84ab-905fe4cae7e4",
   "metadata": {},
   "outputs": [],
   "source": [
    "groupby_gender = data.groupby('Gender')"
   ]
  },
  {
   "cell_type": "code",
   "execution_count": 13,
   "id": "e82269c8-6fc3-456a-bc89-9691a02e0679",
   "metadata": {},
   "outputs": [
    {
     "name": "stdout",
     "output_type": "stream",
     "text": [
      "('Female', np.float64(109.45))\n",
      "('Male', np.float64(115.25))\n"
     ]
    }
   ],
   "source": [
    "for gender, value in groupby_gender['VIQ']:\n",
    "    print((gender, value.mean()))"
   ]
  },
  {
   "cell_type": "code",
   "execution_count": 14,
   "id": "175cb1dd-0970-427a-a266-8066d7d4ca08",
   "metadata": {},
   "outputs": [
    {
     "data": {
      "text/html": [
       "<div>\n",
       "<style scoped>\n",
       "    .dataframe tbody tr th:only-of-type {\n",
       "        vertical-align: middle;\n",
       "    }\n",
       "\n",
       "    .dataframe tbody tr th {\n",
       "        vertical-align: top;\n",
       "    }\n",
       "\n",
       "    .dataframe thead th {\n",
       "        text-align: right;\n",
       "    }\n",
       "</style>\n",
       "<table border=\"1\" class=\"dataframe\">\n",
       "  <thead>\n",
       "    <tr style=\"text-align: right;\">\n",
       "      <th></th>\n",
       "      <th>Unnamed: 0</th>\n",
       "      <th>FSIQ</th>\n",
       "      <th>VIQ</th>\n",
       "      <th>PIQ</th>\n",
       "      <th>Weight</th>\n",
       "      <th>Height</th>\n",
       "      <th>MRI_Count</th>\n",
       "    </tr>\n",
       "    <tr>\n",
       "      <th>Gender</th>\n",
       "      <th></th>\n",
       "      <th></th>\n",
       "      <th></th>\n",
       "      <th></th>\n",
       "      <th></th>\n",
       "      <th></th>\n",
       "      <th></th>\n",
       "    </tr>\n",
       "  </thead>\n",
       "  <tbody>\n",
       "    <tr>\n",
       "      <th>Female</th>\n",
       "      <td>19.65</td>\n",
       "      <td>111.9</td>\n",
       "      <td>109.45</td>\n",
       "      <td>110.45</td>\n",
       "      <td>137.200000</td>\n",
       "      <td>65.765000</td>\n",
       "      <td>862654.6</td>\n",
       "    </tr>\n",
       "    <tr>\n",
       "      <th>Male</th>\n",
       "      <td>21.35</td>\n",
       "      <td>115.0</td>\n",
       "      <td>115.25</td>\n",
       "      <td>111.60</td>\n",
       "      <td>166.444444</td>\n",
       "      <td>71.431579</td>\n",
       "      <td>954855.4</td>\n",
       "    </tr>\n",
       "  </tbody>\n",
       "</table>\n",
       "</div>"
      ],
      "text/plain": [
       "        Unnamed: 0   FSIQ     VIQ     PIQ      Weight     Height  MRI_Count\n",
       "Gender                                                                     \n",
       "Female       19.65  111.9  109.45  110.45  137.200000  65.765000   862654.6\n",
       "Male         21.35  115.0  115.25  111.60  166.444444  71.431579   954855.4"
      ]
     },
     "execution_count": 14,
     "metadata": {},
     "output_type": "execute_result"
    }
   ],
   "source": [
    "groupby_gender.mean()"
   ]
  },
  {
   "cell_type": "markdown",
   "id": "9a487d71-039a-45e2-a5c0-954147b34b6e",
   "metadata": {},
   "source": [
    "# Exercise 2"
   ]
  },
  {
   "cell_type": "code",
   "execution_count": 16,
   "id": "03b4ef4c-adde-42e4-a20a-15a097045ae4",
   "metadata": {},
   "outputs": [
    {
     "name": "stdout",
     "output_type": "stream",
     "text": [
      "Mean VIQ (all participants): 112.35\n",
      "\n",
      "Participants by gender:\n",
      "Gender\n",
      "Female    20\n",
      "Male      20\n",
      "Name: count, dtype: int64\n",
      "\n",
      "Mean log10(MRI count) by gender:\n",
      "Gender\n",
      "Female    5.934994\n",
      "Male      5.979250\n",
      "Name: log_MRI, dtype: float64\n"
     ]
    }
   ],
   "source": [
    "# 1. Mean VIQ for the full population\n",
    "viq_mean = data['VIQ'].mean()\n",
    "\n",
    "# 2. Number of males and females\n",
    "gender_counts = data['Gender'].value_counts()\n",
    "\n",
    "# 3. Average MRI count (log10‐transformed) for males and females\n",
    "data['log_MRI'] = np.log10(data['MRI_Count'])\n",
    "mean_log_mri_by_gender = data.groupby('Gender')['log_MRI'].mean()\n",
    "\n",
    "print(f\"Mean VIQ (all participants): {viq_mean:.2f}\")\n",
    "print(\"\\nParticipants by gender:\")\n",
    "print(gender_counts)\n",
    "print(\"\\nMean log10(MRI count) by gender:\")\n",
    "print(mean_log_mri_by_gender)"
   ]
  },
  {
   "cell_type": "markdown",
   "id": "5c6eba85-b073-4c04-9e39-e48538f92760",
   "metadata": {},
   "source": [
    "## Plotting the data"
   ]
  },
  {
   "cell_type": "code",
   "execution_count": 17,
   "id": "e4515eda-9e08-4611-b76b-3e0072329737",
   "metadata": {},
   "outputs": [],
   "source": [
    "from pandas import plotting\n"
   ]
  },
  {
   "cell_type": "code",
   "execution_count": 18,
   "id": "5957b340-b781-4657-aef2-ca787afde16f",
   "metadata": {},
   "outputs": [
    {
     "data": {
      "text/plain": [
       "array([[<Axes: xlabel='Weight', ylabel='Weight'>,\n",
       "        <Axes: xlabel='Height', ylabel='Weight'>,\n",
       "        <Axes: xlabel='MRI_Count', ylabel='Weight'>],\n",
       "       [<Axes: xlabel='Weight', ylabel='Height'>,\n",
       "        <Axes: xlabel='Height', ylabel='Height'>,\n",
       "        <Axes: xlabel='MRI_Count', ylabel='Height'>],\n",
       "       [<Axes: xlabel='Weight', ylabel='MRI_Count'>,\n",
       "        <Axes: xlabel='Height', ylabel='MRI_Count'>,\n",
       "        <Axes: xlabel='MRI_Count', ylabel='MRI_Count'>]], dtype=object)"
      ]
     },
     "execution_count": 18,
     "metadata": {},
     "output_type": "execute_result"
    },
    {
     "data": {
      "image/png": "[encoded data removed]",
      "text/plain": [
       "<Figure size 640x480 with 9 Axes>"
      ]
     },
     "metadata": {},
     "output_type": "display_data"
    }
   ],
   "source": [
    "plotting.scatter_matrix(data[['Weight', 'Height', 'MRI_Count']])   \n"
   ]
  },
  {
   "cell_type": "code",
   "execution_count": 19,
   "id": "b02c5681-6232-440c-a41b-cbc96bec077f",
   "metadata": {},
   "outputs": [
    {
     "data": {
      "text/plain": [
       "array([[<Axes: xlabel='PIQ', ylabel='PIQ'>,\n",
       "        <Axes: xlabel='VIQ', ylabel='PIQ'>,\n",
       "        <Axes: xlabel='FSIQ', ylabel='PIQ'>],\n",
       "       [<Axes: xlabel='PIQ', ylabel='VIQ'>,\n",
       "        <Axes: xlabel='VIQ', ylabel='VIQ'>,\n",
       "        <Axes: xlabel='FSIQ', ylabel='VIQ'>],\n",
       "       [<Axes: xlabel='PIQ', ylabel='FSIQ'>,\n",
       "        <Axes: xlabel='VIQ', ylabel='FSIQ'>,\n",
       "        <Axes: xlabel='FSIQ', ylabel='FSIQ'>]], dtype=object)"
      ]
     },
     "execution_count": 19,
     "metadata": {},
     "output_type": "execute_result"
    },
    {
     "data": {
      "image/png": "[encoded data removed]",
      "text/plain": [
       "<Figure size 640x480 with 9 Axes>"
      ]
     },
     "metadata": {},
     "output_type": "display_data"
    }
   ],
   "source": [
    "plotting.scatter_matrix(data[['PIQ', 'VIQ', 'FSIQ']])   "
   ]
  },
  {
   "cell_type": "code",
   "execution_count": 20,
   "id": "a9664b30-9e17-42b0-8a32-494b614cc7bc",
   "metadata": {},
   "outputs": [],
   "source": [
    "from scipy import stats"
   ]
  },
  {
   "cell_type": "markdown",
   "id": "c8e1bb24-35d3-4111-8d5c-3ebbed8b3525",
   "metadata": {},
   "source": [
    "# 3.1.2 Hypothesis testing"
   ]
  },
  {
   "cell_type": "markdown",
   "id": "b448c133-afc8-42be-9a9a-6a053331c1b7",
   "metadata": {},
   "source": [
    "## 3.1.2.1 Student's t-test: simple stats"
   ]
  },
  {
   "cell_type": "markdown",
   "id": "9fe8f543-3ff3-4822-95e0-1f26fe145d76",
   "metadata": {},
   "source": [
    "### 1 sample t test"
   ]
  },
  {
   "cell_type": "code",
   "execution_count": 21,
   "id": "d6602634-1008-4793-988e-59a04f678097",
   "metadata": {},
   "outputs": [
    {
     "data": {
      "text/plain": [
       "TtestResult(statistic=np.float64(30.08809997084933), pvalue=np.float64(1.3289196468727879e-28), df=np.int64(39))"
      ]
     },
     "execution_count": 21,
     "metadata": {},
     "output_type": "execute_result"
    }
   ],
   "source": [
    "stats.ttest_1samp(data['VIQ'], 0)   "
   ]
  },
  {
   "cell_type": "markdown",
   "id": "e8524ff5-ddc8-4487-badc-892256533c33",
   "metadata": {},
   "source": [
    "### 2 sample t test"
   ]
  },
  {
   "cell_type": "code",
   "execution_count": 22,
   "id": "df18699e-995b-447c-9a38-4b0a93f4d260",
   "metadata": {},
   "outputs": [
    {
     "data": {
      "text/plain": [
       "TtestResult(statistic=np.float64(-0.7726161723275012), pvalue=np.float64(0.44452876778583217), df=np.float64(38.0))"
      ]
     },
     "execution_count": 22,
     "metadata": {},
     "output_type": "execute_result"
    }
   ],
   "source": [
    "female_viq = data[data['Gender'] == 'Female']['VIQ']\n",
    "male_viq = data[data['Gender'] == 'Male']['VIQ']\n",
    "stats.ttest_ind(female_viq, male_viq)   "
   ]
  },
  {
   "cell_type": "markdown",
   "id": "daf8d40f-0332-45da-aae0-a769c9262606",
   "metadata": {},
   "source": [
    "## 3.1.2.2. Paired tests"
   ]
  },
  {
   "cell_type": "code",
   "execution_count": 23,
   "id": "1c4025a5-6761-4e69-a7fd-79e06109db2f",
   "metadata": {},
   "outputs": [
    {
     "data": {
      "text/plain": [
       "TtestResult(statistic=np.float64(0.465637596380964), pvalue=np.float64(0.6427725009414841), df=np.float64(78.0))"
      ]
     },
     "execution_count": 23,
     "metadata": {},
     "output_type": "execute_result"
    }
   ],
   "source": [
    "stats.ttest_ind(data['FSIQ'], data['PIQ'])   "
   ]
  },
  {
   "cell_type": "code",
   "execution_count": 24,
   "id": "19a65e19-16c8-4ac0-b517-675b834f2219",
   "metadata": {},
   "outputs": [
    {
     "data": {
      "text/plain": [
       "TtestResult(statistic=np.float64(1.7842019405859857), pvalue=np.float64(0.08217263818364236), df=np.int64(39))"
      ]
     },
     "execution_count": 24,
     "metadata": {},
     "output_type": "execute_result"
    }
   ],
   "source": [
    "stats.ttest_rel(data['FSIQ'], data['PIQ'])   "
   ]
  },
  {
   "cell_type": "code",
   "execution_count": 25,
   "id": "b6382c2c-e994-4ab1-ab4a-2f3c4365d1d8",
   "metadata": {},
   "outputs": [
    {
     "data": {
      "text/plain": [
       "TtestResult(statistic=np.float64(1.7842019405859857), pvalue=np.float64(0.08217263818364236), df=np.int64(39))"
      ]
     },
     "execution_count": 25,
     "metadata": {},
     "output_type": "execute_result"
    }
   ],
   "source": [
    "stats.ttest_1samp(data['FSIQ'] - data['PIQ'], 0)   "
   ]
  },
  {
   "cell_type": "code",
   "execution_count": 26,
   "id": "6b0ec4ab-93a5-4d89-a258-88cf02bd1bc0",
   "metadata": {},
   "outputs": [
    {
     "data": {
      "text/plain": [
       "WilcoxonResult(statistic=np.float64(274.5), pvalue=np.float64(0.10659492713506856))"
      ]
     },
     "execution_count": 26,
     "metadata": {},
     "output_type": "execute_result"
    }
   ],
   "source": [
    "stats.wilcoxon(data['FSIQ'], data['PIQ'])   "
   ]
  },
  {
   "cell_type": "markdown",
   "id": "3fcfd0b2-95cb-4ca3-af43-d95a8e92aa47",
   "metadata": {},
   "source": [
    "# 3.1.3 Linear models, mmultiple factors, and analysis of variance "
   ]
  },
  {
   "cell_type": "markdown",
   "id": "355a4c66-3c4d-4f1d-8143-5c892909f39a",
   "metadata": {},
   "source": [
    "## 3.1.3.1 \"formulas\" to specify statistical models in Python"
   ]
  },
  {
   "cell_type": "code",
   "execution_count": 27,
   "id": "ff7e1025-9e4a-4e62-bc4a-aa564c16543b",
   "metadata": {},
   "outputs": [],
   "source": [
    "x = np.linspace(-5, 5, 20)\n",
    "np.random.seed(1)\n",
    "# normal distributed noise\n",
    "y = -5 + 3*x + 4 * np.random.normal(size=x.shape)\n",
    "# Create a data frame containing all the relevant variables\n",
    "data = pandas.DataFrame({'x': x, 'y': y})"
   ]
  },
  {
   "cell_type": "code",
   "execution_count": 28,
   "id": "499b5a4d-9487-44d7-acc2-2139efc0f716",
   "metadata": {},
   "outputs": [],
   "source": [
    "from statsmodels.formula.api import ols\n",
    "model = ols(\"y ~ x\", data).fit()"
   ]
  },
  {
   "cell_type": "code",
   "execution_count": 29,
   "id": "bd44bd0c-615c-4b4a-97c2-df264406e525",
   "metadata": {},
   "outputs": [
    {
     "name": "stdout",
     "output_type": "stream",
     "text": [
      "                            OLS Regression Results                            \n",
      "==============================================================================\n",
      "Dep. Variable:                      y   R-squared:                       0.804\n",
      "Model:                            OLS   Adj. R-squared:                  0.794\n",
      "Method:                 Least Squares   F-statistic:                     74.03\n",
      "Date:                Sat, 12 Jul 2025   Prob (F-statistic):           8.56e-08\n",
      "Time:                        19:30:30   Log-Likelihood:                -57.988\n",
      "No. Observations:                  20   AIC:                             120.0\n",
      "Df Residuals:                      18   BIC:                             122.0\n",
      "Df Model:                           1                                         \n",
      "Covariance Type:            nonrobust                                         \n",
      "==============================================================================\n",
      "                 coef    std err          t      P>|t|      [0.025      0.975]\n",
      "------------------------------------------------------------------------------\n",
      "Intercept     -5.5335      1.036     -5.342      0.000      -7.710      -3.357\n",
      "x              2.9369      0.341      8.604      0.000       2.220       3.654\n",
      "==============================================================================\n",
      "Omnibus:                        0.100   Durbin-Watson:                   2.956\n",
      "Prob(Omnibus):                  0.951   Jarque-Bera (JB):                0.322\n",
      "Skew:                          -0.058   Prob(JB):                        0.851\n",
      "Kurtosis:                       2.390   Cond. No.                         3.03\n",
      "==============================================================================\n",
      "\n",
      "Notes:\n",
      "[1] Standard Errors assume that the covariance matrix of the errors is correctly specified.\n"
     ]
    }
   ],
   "source": [
    "print(model.summary())  "
   ]
  },
  {
   "cell_type": "code",
   "execution_count": 30,
   "id": "4c14ad20-9730-4b6e-b14d-cc1471bc9695",
   "metadata": {},
   "outputs": [],
   "source": [
    "data = pandas.read_csv('examples/brain_size.csv', sep=';', na_values=\".\")\n"
   ]
  },
  {
   "cell_type": "code",
   "execution_count": 31,
   "id": "9fd80dbe-18d2-41d9-8c83-0a9fd12db39f",
   "metadata": {},
   "outputs": [
    {
     "name": "stdout",
     "output_type": "stream",
     "text": [
      "                            OLS Regression Results                            \n",
      "==============================================================================\n",
      "Dep. Variable:                    VIQ   R-squared:                       0.015\n",
      "Model:                            OLS   Adj. R-squared:                 -0.010\n",
      "Method:                 Least Squares   F-statistic:                    0.5969\n",
      "Date:                Sat, 12 Jul 2025   Prob (F-statistic):              0.445\n",
      "Time:                        19:30:31   Log-Likelihood:                -182.42\n",
      "No. Observations:                  40   AIC:                             368.8\n",
      "Df Residuals:                      38   BIC:                             372.2\n",
      "Df Model:                           1                                         \n",
      "Covariance Type:            nonrobust                                         \n",
      "==================================================================================\n",
      "                     coef    std err          t      P>|t|      [0.025      0.975]\n",
      "----------------------------------------------------------------------------------\n",
      "Intercept        109.4500      5.308     20.619      0.000      98.704     120.196\n",
      "Gender[T.Male]     5.8000      7.507      0.773      0.445      -9.397      20.997\n",
      "==============================================================================\n",
      "Omnibus:                       26.188   Durbin-Watson:                   1.709\n",
      "Prob(Omnibus):                  0.000   Jarque-Bera (JB):                3.703\n",
      "Skew:                           0.010   Prob(JB):                        0.157\n",
      "Kurtosis:                       1.510   Cond. No.                         2.62\n",
      "==============================================================================\n",
      "\n",
      "Notes:\n",
      "[1] Standard Errors assume that the covariance matrix of the errors is correctly specified.\n"
     ]
    }
   ],
   "source": [
    "model = ols(\"VIQ ~ Gender + 1\", data).fit()\n",
    "print(model.summary()) "
   ]
  },
  {
   "cell_type": "code",
   "execution_count": 32,
   "id": "c8e51038-95aa-43ce-a632-57b4fc670109",
   "metadata": {},
   "outputs": [],
   "source": [
    "model = ols('VIQ ~ C(Gender)', data).fit()\n"
   ]
  },
  {
   "cell_type": "code",
   "execution_count": 33,
   "id": "2b3fbee7-e140-4133-acc2-39b7097bfa3f",
   "metadata": {},
   "outputs": [
    {
     "name": "stdout",
     "output_type": "stream",
     "text": [
      "     iq  type\n",
      "0   133  fsiq\n",
      "1   140  fsiq\n",
      "2   139  fsiq\n",
      "3   133  fsiq\n",
      "4   137  fsiq\n",
      "..  ...   ...\n",
      "35  128   piq\n",
      "36  124   piq\n",
      "37   94   piq\n",
      "38   74   piq\n",
      "39   89   piq\n",
      "\n",
      "[80 rows x 2 columns]\n"
     ]
    }
   ],
   "source": [
    "data_fisq = pandas.DataFrame({'iq': data['FSIQ'], 'type': 'fsiq'})\n",
    "data_piq = pandas.DataFrame({'iq': data['PIQ'], 'type': 'piq'})\n",
    "data_long = pandas.concat((data_fisq, data_piq))\n",
    "print(data_long) "
   ]
  },
  {
   "cell_type": "code",
   "execution_count": 34,
   "id": "636af8e7-35de-471f-be1d-2b8869dbaa3c",
   "metadata": {},
   "outputs": [
    {
     "name": "stdout",
     "output_type": "stream",
     "text": [
      "                            OLS Regression Results                            \n",
      "==============================================================================\n",
      "Dep. Variable:                     iq   R-squared:                       0.003\n",
      "Model:                            OLS   Adj. R-squared:                 -0.010\n",
      "Method:                 Least Squares   F-statistic:                    0.2168\n",
      "Date:                Sat, 12 Jul 2025   Prob (F-statistic):              0.643\n",
      "Time:                        19:30:31   Log-Likelihood:                -364.35\n",
      "No. Observations:                  80   AIC:                             732.7\n",
      "Df Residuals:                      78   BIC:                             737.5\n",
      "Df Model:                           1                                         \n",
      "Covariance Type:            nonrobust                                         \n",
      "===============================================================================\n",
      "                  coef    std err          t      P>|t|      [0.025      0.975]\n",
      "-------------------------------------------------------------------------------\n",
      "Intercept     113.4500      3.683     30.807      0.000     106.119     120.781\n",
      "type[T.piq]    -2.4250      5.208     -0.466      0.643     -12.793       7.943\n",
      "==============================================================================\n",
      "Omnibus:                      164.598   Durbin-Watson:                   1.531\n",
      "Prob(Omnibus):                  0.000   Jarque-Bera (JB):                8.062\n",
      "Skew:                          -0.110   Prob(JB):                       0.0178\n",
      "Kurtosis:                       1.461   Cond. No.                         2.62\n",
      "==============================================================================\n",
      "\n",
      "Notes:\n",
      "[1] Standard Errors assume that the covariance matrix of the errors is correctly specified.\n"
     ]
    }
   ],
   "source": [
    "model = ols(\"iq ~ type\", data_long).fit()\n",
    "print(model.summary()) "
   ]
  },
  {
   "cell_type": "markdown",
   "id": "58891585-5057-4967-8167-13725b604147",
   "metadata": {},
   "source": [
    "## 3.1.2.2. Paired tests: repeated measurements on the same individuals"
   ]
  },
  {
   "cell_type": "code",
   "execution_count": 35,
   "id": "d2537b99-2d15-4b61-b116-247e60a2dc1a",
   "metadata": {},
   "outputs": [
    {
     "data": {
      "text/plain": [
       "TtestResult(statistic=np.float64(0.465637596380964), pvalue=np.float64(0.6427725009414841), df=np.float64(78.0))"
      ]
     },
     "execution_count": 35,
     "metadata": {},
     "output_type": "execute_result"
    }
   ],
   "source": [
    "stats.ttest_ind(data['FSIQ'], data['PIQ'])"
   ]
  },
  {
   "cell_type": "code",
   "execution_count": 36,
   "id": "11bc6042-3e7c-4ef5-bf1d-7ee5f4c84a73",
   "metadata": {},
   "outputs": [
    {
     "data": {
      "text/plain": [
       "TtestResult(statistic=np.float64(1.7842019405859857), pvalue=np.float64(0.08217263818364236), df=np.int64(39))"
      ]
     },
     "execution_count": 36,
     "metadata": {},
     "output_type": "execute_result"
    }
   ],
   "source": [
    "stats.ttest_rel(data['FSIQ'], data['PIQ'])   "
   ]
  },
  {
   "cell_type": "code",
   "execution_count": 37,
   "id": "e4eea062-462f-4681-be7d-e71821e33b2c",
   "metadata": {},
   "outputs": [
    {
     "data": {
      "text/plain": [
       "TtestResult(statistic=np.float64(1.7842019405859857), pvalue=np.float64(0.08217263818364236), df=np.int64(39))"
      ]
     },
     "execution_count": 37,
     "metadata": {},
     "output_type": "execute_result"
    }
   ],
   "source": [
    "stats.ttest_1samp(data['FSIQ'] - data['PIQ'], 0)   \n"
   ]
  },
  {
   "cell_type": "code",
   "execution_count": 38,
   "id": "e957df5f-b821-4f4b-88ed-32a2fb068489",
   "metadata": {},
   "outputs": [
    {
     "data": {
      "text/plain": [
       "WilcoxonResult(statistic=np.float64(274.5), pvalue=np.float64(0.10659492713506856))"
      ]
     },
     "execution_count": 38,
     "metadata": {},
     "output_type": "execute_result"
    }
   ],
   "source": [
    "stats.wilcoxon(data['FSIQ'], data['PIQ'])   \n"
   ]
  },
  {
   "cell_type": "markdown",
   "id": "afa52327-d7c5-4862-95e1-ece5bba90b2a",
   "metadata": {},
   "source": [
    "## Exercise 3"
   ]
  },
  {
   "cell_type": "code",
   "execution_count": 39,
   "id": "add29fd0-c682-4795-905f-6b7d87c12d25",
   "metadata": {},
   "outputs": [
    {
     "name": "stdout",
     "output_type": "stream",
     "text": [
      "Mann-Whitney U test p-value: 0.3422886868727315\n",
      "We find that the data does not support the hypothesis that males and females have different VIQ.\n"
     ]
    }
   ],
   "source": [
    "# Separate groups\n",
    "male_viq = data[data['Gender'] == 'Male']['VIQ']\n",
    "female_viq = data[data['Gender'] == 'Female']['VIQ']\n",
    "\n",
    "# Perform Mann-Whitney U test (non-parametric)\n",
    "u_stat, p_value = stats.mannwhitneyu(male_viq, female_viq, alternative='two-sided')\n",
    "\n",
    "print(\"Mann-Whitney U test p-value:\", p_value)\n",
    "\n",
    "# Conclusion\n",
    "if p_value < 0.05:\n",
    "    print(\"There is a significant difference in VIQ between males and females.\")\n",
    "else:\n",
    "    print(\"We find that the data does not support the hypothesis that males and females have different VIQ.\")\n"
   ]
  },
  {
   "cell_type": "markdown",
   "id": "83f8e706-9e05-493c-ba6d-d5f78641fd86",
   "metadata": {},
   "source": [
    "# 3.1.3. Linear models, multiple factors, and analysis of variance"
   ]
  },
  {
   "cell_type": "markdown",
   "id": "eb73f3a2-8c5b-4405-8c17-54a28796fd0c",
   "metadata": {},
   "source": [
    "## 3.1.3.1. “formulas” to specify statistical models in Python"
   ]
  },
  {
   "cell_type": "code",
   "execution_count": 40,
   "id": "4601bbd7-9466-406d-8061-4132a82a7768",
   "metadata": {},
   "outputs": [],
   "source": [
    "import numpy as np\n",
    "x = np.linspace(-5, 5, 20)\n",
    "np.random.seed(1)\n",
    "# normal distributed noise\n",
    "y = -5 + 3*x + 4 * np.random.normal(size=x.shape)\n",
    "# Create a data frame containing all the relevant variables\n",
    "data = pandas.DataFrame({'x': x, 'y': y})"
   ]
  },
  {
   "cell_type": "code",
   "execution_count": 41,
   "id": "020196a0-a6fc-4dce-9a2b-4497c5546960",
   "metadata": {},
   "outputs": [],
   "source": [
    "from statsmodels.formula.api import ols\n",
    "model = ols(\"y ~ x\", data).fit()"
   ]
  },
  {
   "cell_type": "code",
   "execution_count": 42,
   "id": "d99b3c5c-cfd1-4f30-9d2d-ca49ddf0b691",
   "metadata": {},
   "outputs": [
    {
     "name": "stdout",
     "output_type": "stream",
     "text": [
      "                            OLS Regression Results                            \n",
      "==============================================================================\n",
      "Dep. Variable:                      y   R-squared:                       0.804\n",
      "Model:                            OLS   Adj. R-squared:                  0.794\n",
      "Method:                 Least Squares   F-statistic:                     74.03\n",
      "Date:                Sat, 12 Jul 2025   Prob (F-statistic):           8.56e-08\n",
      "Time:                        19:30:33   Log-Likelihood:                -57.988\n",
      "No. Observations:                  20   AIC:                             120.0\n",
      "Df Residuals:                      18   BIC:                             122.0\n",
      "Df Model:                           1                                         \n",
      "Covariance Type:            nonrobust                                         \n",
      "==============================================================================\n",
      "                 coef    std err          t      P>|t|      [0.025      0.975]\n",
      "------------------------------------------------------------------------------\n",
      "Intercept     -5.5335      1.036     -5.342      0.000      -7.710      -3.357\n",
      "x              2.9369      0.341      8.604      0.000       2.220       3.654\n",
      "==============================================================================\n",
      "Omnibus:                        0.100   Durbin-Watson:                   2.956\n",
      "Prob(Omnibus):                  0.951   Jarque-Bera (JB):                0.322\n",
      "Skew:                          -0.058   Prob(JB):                        0.851\n",
      "Kurtosis:                       2.390   Cond. No.                         3.03\n",
      "==============================================================================\n",
      "\n",
      "Notes:\n",
      "[1] Standard Errors assume that the covariance matrix of the errors is correctly specified.\n"
     ]
    }
   ],
   "source": [
    "print(model.summary()) "
   ]
  },
  {
   "cell_type": "markdown",
   "id": "bc7163bc-a74a-487c-aa24-ddd029e1b12d",
   "metadata": {},
   "source": [
    "# Exercise 4"
   ]
  },
  {
   "cell_type": "code",
   "execution_count": 43,
   "id": "3a5c5eb0-0a75-410b-a34c-56545804f008",
   "metadata": {},
   "outputs": [],
   "source": [
    "model.params\n",
    "intercept = model.params['Intercept']\n",
    "slope = model.params['x']"
   ]
  },
  {
   "cell_type": "code",
   "execution_count": 44,
   "id": "0f74a611-adc4-494a-b40d-f9a2555738cc",
   "metadata": {},
   "outputs": [
    {
     "name": "stdout",
     "output_type": "stream",
     "text": [
      "                            OLS Regression Results                            \n",
      "==============================================================================\n",
      "Dep. Variable:                    VIQ   R-squared:                       0.015\n",
      "Model:                            OLS   Adj. R-squared:                 -0.010\n",
      "Method:                 Least Squares   F-statistic:                    0.5969\n",
      "Date:                Sat, 12 Jul 2025   Prob (F-statistic):              0.445\n",
      "Time:                        19:30:34   Log-Likelihood:                -182.42\n",
      "No. Observations:                  40   AIC:                             368.8\n",
      "Df Residuals:                      38   BIC:                             372.2\n",
      "Df Model:                           1                                         \n",
      "Covariance Type:            nonrobust                                         \n",
      "==================================================================================\n",
      "                     coef    std err          t      P>|t|      [0.025      0.975]\n",
      "----------------------------------------------------------------------------------\n",
      "Intercept        109.4500      5.308     20.619      0.000      98.704     120.196\n",
      "Gender[T.Male]     5.8000      7.507      0.773      0.445      -9.397      20.997\n",
      "==============================================================================\n",
      "Omnibus:                       26.188   Durbin-Watson:                   1.709\n",
      "Prob(Omnibus):                  0.000   Jarque-Bera (JB):                3.703\n",
      "Skew:                           0.010   Prob(JB):                        0.157\n",
      "Kurtosis:                       1.510   Cond. No.                         2.62\n",
      "==============================================================================\n",
      "\n",
      "Notes:\n",
      "[1] Standard Errors assume that the covariance matrix of the errors is correctly specified.\n"
     ]
    }
   ],
   "source": [
    "data = pandas.read_csv('examples/brain_size.csv', sep=';', na_values=\".\")\n",
    "model = ols(\"VIQ ~ Gender + 1\", data).fit()\n",
    "print(model.summary())  "
   ]
  },
  {
   "cell_type": "code",
   "execution_count": 45,
   "id": "302f6a5f-e8d8-4591-a067-3ee27fa212dd",
   "metadata": {},
   "outputs": [],
   "source": [
    "model = ols('VIQ ~ C(Gender)', data).fit()\n"
   ]
  },
  {
   "cell_type": "code",
   "execution_count": 46,
   "id": "ba5c7cfa-d809-429d-9246-b1dbfd5213c9",
   "metadata": {},
   "outputs": [
    {
     "name": "stdout",
     "output_type": "stream",
     "text": [
      "     iq  type\n",
      "0   133  fsiq\n",
      "1   140  fsiq\n",
      "2   139  fsiq\n",
      "3   133  fsiq\n",
      "4   137  fsiq\n",
      "..  ...   ...\n",
      "35  128   piq\n",
      "36  124   piq\n",
      "37   94   piq\n",
      "38   74   piq\n",
      "39   89   piq\n",
      "\n",
      "[80 rows x 2 columns]\n"
     ]
    }
   ],
   "source": [
    "data_fisq = pandas.DataFrame({'iq': data['FSIQ'], 'type': 'fsiq'})\n",
    "data_piq = pandas.DataFrame({'iq': data['PIQ'], 'type': 'piq'})\n",
    "data_long = pandas.concat((data_fisq, data_piq))\n",
    "print(data_long)  "
   ]
  },
  {
   "cell_type": "code",
   "execution_count": null,
   "id": "3ac3fc7e-5d77-4b13-b3f0-9073b625ddba",
   "metadata": {},
   "outputs": [],
   "source": [
    "model = ols(\"iq ~ type\", data_long).fit()\n",
    "print(model.summary())  \n",
    "stats.ttest_ind(data['FSIQ'], data['PIQ'])   "
   ]
  },
  {
   "cell_type": "code",
   "execution_count": 48,
   "id": "a3598fe2-bb81-43d2-ac31-b070c06d6114",
   "metadata": {},
   "outputs": [
    {
     "data": {
      "text/plain": [
       "TtestResult(statistic=np.float64(0.465637596380964), pvalue=np.float64(0.6427725009414841), df=np.float64(78.0))"
      ]
     },
     "execution_count": 48,
     "metadata": {},
     "output_type": "execute_result"
    }
   ],
   "source": [
    "stats.ttest_ind(data['FSIQ'], data['PIQ'])   "
   ]
  },
  {
   "cell_type": "markdown",
   "id": "6ac41750-c4ae-41a8-a95c-86be5b4d40e2",
   "metadata": {},
   "source": [
    "## 3.1.3.2. Multiple Regression: including multiple factors"
   ]
  },
  {
   "cell_type": "code",
   "execution_count": 49,
   "id": "ec94c50d-25d1-4c0c-88f3-a976b4f3450f",
   "metadata": {},
   "outputs": [
    {
     "name": "stdout",
     "output_type": "stream",
     "text": [
      "                            OLS Regression Results                            \n",
      "==============================================================================\n",
      "Dep. Variable:            sepal_width   R-squared:                       0.478\n",
      "Model:                            OLS   Adj. R-squared:                  0.468\n",
      "Method:                 Least Squares   F-statistic:                     44.63\n",
      "Date:                Sat, 12 Jul 2025   Prob (F-statistic):           1.58e-20\n",
      "Time:                        19:30:35   Log-Likelihood:                -38.185\n",
      "No. Observations:                 150   AIC:                             84.37\n",
      "Df Residuals:                     146   BIC:                             96.41\n",
      "Df Model:                           3                                         \n",
      "Covariance Type:            nonrobust                                         \n",
      "======================================================================================\n",
      "                         coef    std err          t      P>|t|      [0.025      0.975]\n",
      "--------------------------------------------------------------------------------------\n",
      "Intercept              2.9813      0.099     29.989      0.000       2.785       3.178\n",
      "name[T.versicolor]    -1.4821      0.181     -8.190      0.000      -1.840      -1.124\n",
      "name[T.virginica]     -1.6635      0.256     -6.502      0.000      -2.169      -1.158\n",
      "petal_length           0.2983      0.061      4.920      0.000       0.178       0.418\n",
      "==============================================================================\n",
      "Omnibus:                        2.868   Durbin-Watson:                   1.753\n",
      "Prob(Omnibus):                  0.238   Jarque-Bera (JB):                2.885\n",
      "Skew:                          -0.082   Prob(JB):                        0.236\n",
      "Kurtosis:                       3.659   Cond. No.                         54.0\n",
      "==============================================================================\n",
      "\n",
      "Notes:\n",
      "[1] Standard Errors assume that the covariance matrix of the errors is correctly specified.\n"
     ]
    }
   ],
   "source": [
    "data = pandas.read_csv('examples/iris.csv')\n",
    "model = ols('sepal_width ~ name + petal_length', data).fit()\n",
    "print(model.summary())  "
   ]
  },
  {
   "cell_type": "markdown",
   "id": "b6d97453-5b90-4948-8b53-6812226d3849",
   "metadata": {},
   "source": [
    "## 3.1.3.3 Post-hoc hypothesis testing: analysis of variance (ANOVA)"
   ]
  },
  {
   "cell_type": "code",
   "execution_count": 50,
   "id": "71e66a21-d293-47c9-875d-25a71aa47bdb",
   "metadata": {},
   "outputs": [
    {
     "name": "stdout",
     "output_type": "stream",
     "text": [
      "<F test: F=3.245335346574177, p=0.0736905878170114, df_denom=146, df_num=1>\n"
     ]
    }
   ],
   "source": [
    "print(model.f_test([0, 1, -1, 0]))  "
   ]
  },
  {
   "cell_type": "markdown",
   "id": "b2a295e7-ddbb-4cd2-9024-c7a18c109b09",
   "metadata": {},
   "source": [
    "# Exercise 5"
   ]
  },
  {
   "cell_type": "code",
   "execution_count": null,
   "id": "9ae7acf9-1353-4ed0-8256-01bfe74bb386",
   "metadata": {},
   "outputs": [],
   "source": [
    "\n",
    "# Run the linear regression model\n",
    "model = ols(\"VIQ ~ Gender + MRI_Count + Height + Weight\", data).fit()\n",
    "\n",
    "# Print the summary to check if Gender is significant\n",
    "print(model.summary())"
   ]
  },
  {
   "cell_type": "markdown",
   "id": "2c8bc271-507b-4556-9000-ca93142a7fe8",
   "metadata": {},
   "source": [
    "# 3.1.4. More visualization: seaborn for statistical exploration"
   ]
  },
  {
   "cell_type": "markdown",
   "id": "2ef26c50-16c5-4139-862f-9ce028eec373",
   "metadata": {},
   "source": [
    "## 3.1.4.1. Pairplot: scatter matrices"
   ]
  },
  {
   "cell_type": "code",
   "execution_count": null,
   "id": "0d5fc364-e980-4309-8627-39ee90a11044",
   "metadata": {},
   "outputs": [],
   "source": [
    "import seaborn\n",
    "import urllib.request\n",
    "import os"
   ]
  },
  {
   "cell_type": "code",
   "execution_count": 52,
   "id": "bfa6ec40-9e59-440a-900e-b29b4b52fea3",
   "metadata": {},
   "outputs": [],
   "source": [
    "data = pandas.read_csv('examples/CPS_85_Wages.csv', sep = \";\")"
   ]
  },
  {
   "cell_type": "code",
   "execution_count": 53,
   "id": "9d35c5fd-0a77-42d3-84a9-c4286b443265",
   "metadata": {},
   "outputs": [
    {
     "name": "stderr",
     "output_type": "stream",
     "text": [
      "/tmp/slurmtmp.1623070/ipykernel_3052777/1964017953.py:23: ParserWarning: Falling back to the 'python' engine because the 'c' engine does not support skipfooter; you can avoid this warning by specifying engine='python'.\n",
      "  data = pandas.read_csv('wages.txt', skiprows=27, skipfooter=6, sep=None,\n"
     ]
    }
   ],
   "source": [
    "if not os.path.exists('wages.txt'):\n",
    "    # Download the file if it is not present\n",
    "    urllib.request.urlretrieve('http://lib.stat.cmu.edu/datasets/CPS_85_Wages',\n",
    "                       'wages.txt')\n",
    "\n",
    "# Give names to the columns\n",
    "names = [\n",
    "    'EDUCATION: Number of years of education',\n",
    "    'SOUTH: 1=Person lives in South, 0=Person lives elsewhere',\n",
    "    'SEX: 1=Female, 0=Male',\n",
    "    'EXPERIENCE: Number of years of work experience',\n",
    "    'UNION: 1=Union member, 0=Not union member',\n",
    "    'WAGE: Wage (dollars per hour)',\n",
    "    'AGE: years',\n",
    "    'RACE: 1=Other, 2=Hispanic, 3=White',\n",
    "    'OCCUPATION: 1=Management, 2=Sales, 3=Clerical, 4=Service, 5=Professional, 6=Other',\n",
    "    'SECTOR: 0=Other, 1=Manufacturing, 2=Construction',\n",
    "    'MARR: 0=Unmarried,  1=Married',\n",
    "]\n",
    "\n",
    "short_names = [n.split(':')[0] for n in names]\n",
    "\n",
    "data = pandas.read_csv('wages.txt', skiprows=27, skipfooter=6, sep=None,\n",
    "                       header=None)\n",
    "data.columns = short_names\n",
    "\n",
    "# Log-transform the wages, because they typically are increased with\n",
    "# multiplicative factors\n",
    "import numpy as np\n",
    "data['WAGE'] = np.log10(data['WAGE'])"
   ]
  },
  {
   "cell_type": "code",
   "execution_count": null,
   "id": "693c9565-b5fc-4eb3-8f8e-b77c2d545c2d",
   "metadata": {},
   "outputs": [],
   "source": [
    "seaborn.pairplot(data, vars=['WAGE', 'AGE', 'EDUCATION'],\n",
    "                 kind='reg')  "
   ]
  },
  {
   "cell_type": "code",
   "execution_count": null,
   "id": "7d820454-4bde-4ec1-8b29-cbad73b71021",
   "metadata": {},
   "outputs": [],
   "source": [
    "seaborn.pairplot(data, vars=['WAGE', 'AGE', 'EDUCATION'],\n",
    "                 kind='reg', hue='SEX')  "
   ]
  },
  {
   "cell_type": "code",
   "execution_count": 56,
   "id": "984a759b-be10-45a2-831d-67484513e899",
   "metadata": {},
   "outputs": [],
   "source": [
    "from matplotlib import pyplot as plt\n",
    "plt.rcdefaults()"
   ]
  },
  {
   "cell_type": "markdown",
   "id": "44c01721-c916-4c45-a021-1c73d6b72fec",
   "metadata": {},
   "source": [
    "## 3.1.4.2. lmplot: plotting a univariate regression"
   ]
  },
  {
   "cell_type": "markdown",
   "id": "6dcfa84d-239a-4206-ac55-03c068879852",
   "metadata": {},
   "source": [
    "# 3.1.5. Testing for interactions"
   ]
  },
  {
   "cell_type": "code",
   "execution_count": null,
   "id": "1b0c9dd6-0a81-419c-bcf2-03ac8730e8d3",
   "metadata": {},
   "outputs": [],
   "source": [
    "result = sm.ols(formula='wage ~ education + gender + education * gender',\n",
    "                data=data).fit()    \n",
    "print(result.summary())  "
   ]
  }
 ],
 "metadata": {
  "kernelspec": {
   "display_name": "Python (7030_class_1)",
   "language": "python",
   "name": "7030_class_1"
  },
  "language_info": {
   "codemirror_mode": {
    "name": "ipython",
    "version": 3
   },
   "file_extension": ".py",
   "mimetype": "text/x-python",
   "name": "python",
   "nbconvert_exporter": "python",
   "pygments_lexer": "ipython3",
   "version": "3.10.18"
  }
 },
 "nbformat": 4,
 "nbformat_minor": 5
}
